{
  "nbformat": 4,
  "nbformat_minor": 0,
  "metadata": {
    "colab": {
      "provenance": [],
      "toc_visible": true,
      "include_colab_link": true
    },
    "kernelspec": {
      "name": "python3",
      "display_name": "Python 3"
    },
    "language_info": {
      "name": "python"
    }
  },
  "cells": [
    {
      "cell_type": "markdown",
      "metadata": {
        "id": "view-in-github",
        "colab_type": "text"
      },
      "source": [
        "<a href=\"https://colab.research.google.com/github/Dhaninur81/Dhaninur81/blob/main/Jawaban_Soal_1.ipynb\" target=\"_parent\"><img src=\"https://colab.research.google.com/assets/colab-badge.svg\" alt=\"Open In Colab\"/></a>"
      ]
    },
    {
      "cell_type": "code",
      "source": [
        "#!/bin/python3\n",
        "\n",
        "import math\n",
        "import os\n",
        "import random\n",
        "import re\n",
        "import sys"
      ],
      "metadata": {
        "id": "NQ5D1yLB4nLg"
      },
      "execution_count": null,
      "outputs": []
    },
    {
      "cell_type": "code",
      "source": [
        "if __name__ == '__main__':\n",
        "    n = int(input().strip())\n",
        "\n",
        "    if n%2 != 0:\n",
        "        print(\"Weird\")\n",
        "    elif n%2 == 0 and n>2 and n<=5:\n",
        "        print(\"Not Weird\")\n",
        "    elif n%2 ==0 and n > 6 and n <=20:\n",
        "        print(\"Weird\")\n",
        "    else:\n",
        "        print(\"Not Weird\")"
      ],
      "metadata": {
        "colab": {
          "base_uri": "https://localhost:8080/"
        },
        "id": "xSwMvR_d5L3a",
        "outputId": "f6179fce-c93f-465b-f964-1f1838711ba1"
      },
      "execution_count": null,
      "outputs": [
        {
          "output_type": "stream",
          "name": "stdout",
          "text": [
            "18\n",
            "Weird\n"
          ]
        }
      ]
    }
  ]
}